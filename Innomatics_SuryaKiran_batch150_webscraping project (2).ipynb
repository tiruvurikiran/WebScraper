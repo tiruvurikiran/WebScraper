{
 "cells": [
  {
   "cell_type": "code",
   "execution_count": 1,
   "metadata": {},
   "outputs": [],
   "source": [
    "import requests\n",
    "from bs4 import BeautifulSoup"
   ]
  },
  {
   "cell_type": "markdown",
   "metadata": {},
   "source": [
    "# Players data extraction and cleansing"
   ]
  },
  {
   "cell_type": "code",
   "execution_count": 2,
   "metadata": {},
   "outputs": [],
   "source": [
    "#url of players\n",
    "url13 =\"https://stats.espncricinfo.com/ci/engine/records/batting/most_runs_career.html?id=7720;type=tournament\"\n",
    "res13 = requests.get(url13)\n",
    "url14 = \"https://stats.espncricinfo.com/ci/engine/records/batting/most_runs_career.html?id=8827;type=tournament\"\n",
    "res14 = requests.get(url14)\n",
    "url15 = \"https://stats.espncricinfo.com/ci/engine/records/batting/most_runs_career.html?id=9657;type=tournament\"\n",
    "res15 = requests.get(url15)\n",
    "url16 = \"https://stats.espncricinfo.com/ci/engine/records/batting/most_runs_career.html?id=11701;type=tournament\"\n",
    "res16= requests.get(url16)\n",
    "url17 = \"https://stats.espncricinfo.com/ci/engine/records/batting/most_runs_career.html?id=11001;type=tournament\"\n",
    "res17= requests.get(url17)\n",
    "url18 = \"https://stats.espncricinfo.com/ci/engine/records/batting/most_runs_career.html?id=12210;type=tournament\"\n",
    "res18= requests.get(url18)\n",
    "url19 = \"https://stats.espncricinfo.com/ci/engine/records/batting/most_runs_career.html?id=12741;type=tournament\"\n",
    "res19 = requests.get(url19)\n",
    "url20= \"https://stats.espncricinfo.com/ci/engine/records/batting/most_runs_career.html?id=13533;type=tournament\"\n",
    "res20= requests.get(url20)\n",
    "url21 =\"https://stats.espncricinfo.com/ci/engine/records/batting/most_runs_career.html?id=13840;type=tournament\"\n",
    "res21= requests.get(url21)\n",
    "url22 =\"https://stats.espncricinfo.com/ci/engine/records/batting/most_runs_career.html?id=14452;type=tournament\"\n",
    "res22 = requests.get(url22)"
   ]
  },
  {
   "cell_type": "code",
   "execution_count": 3,
   "metadata": {},
   "outputs": [],
   "source": [
    "#data of players\n",
    "data13 = res13.text\n",
    "data14 = res14.text\n",
    "data15 = res15.text\n",
    "data16 = res16.text\n",
    "data17 = res17.text\n",
    "data18 = res18.text\n",
    "data19 = res19.text\n",
    "data20 = res20.text\n",
    "data21 = res21.text\n",
    "data22 = res22.text"
   ]
  },
  {
   "cell_type": "code",
   "execution_count": 5,
   "metadata": {},
   "outputs": [
    {
     "name": "stdout",
     "output_type": "stream",
     "text": [
      "Requirement already satisfied: bs4 in c:\\users\\admin\\miniconda3\\lib\\site-packages (0.0.1)\n",
      "Requirement already satisfied: beautifulsoup4 in c:\\users\\admin\\miniconda3\\lib\\site-packages (from bs4) (4.11.1)\n",
      "Requirement already satisfied: soupsieve>1.2 in c:\\users\\admin\\miniconda3\\lib\\site-packages (from beautifulsoup4->bs4) (2.3.2.post1)\n"
     ]
    }
   ],
   "source": [
    "!pip install bs4"
   ]
  },
  {
   "cell_type": "code",
   "execution_count": 4,
   "metadata": {},
   "outputs": [
    {
     "data": {
      "text/plain": [
       "bs4.BeautifulSoup"
      ]
     },
     "execution_count": 4,
     "metadata": {},
     "output_type": "execute_result"
    }
   ],
   "source": [
    "#players data into beautiful soup\n",
    "bs_data13 = BeautifulSoup(data13)\n",
    "bs_data14 =BeautifulSoup(data14)\n",
    "bs_data15 =BeautifulSoup(data15)\n",
    "bs_data16 =BeautifulSoup(data16)\n",
    "bs_data17 =BeautifulSoup(data17)\n",
    "bs_data18 =BeautifulSoup(data18)\n",
    "bs_data19 =BeautifulSoup(data19)\n",
    "bs_data20 =BeautifulSoup(data20)\n",
    "bs_data21 =BeautifulSoup(data21)\n",
    "bs_data22 =BeautifulSoup(data22)\n",
    "type(bs_data22)"
   ]
  },
  {
   "cell_type": "code",
   "execution_count": 5,
   "metadata": {},
   "outputs": [],
   "source": [
    "#to get years from the site\n",
    "import re\n",
    "\n",
    "year13 = bs_data13.find(\"div\",class_=\"icc-home\").text\n",
    "result1 = re.findall(\"\\d{4}\", year13)\n",
    "for each in result1:\n",
    "    new13 = each\n",
    "    \n",
    "year14 = bs_data14.find(\"div\",class_=\"icc-home\").text\n",
    "result2 = re.findall(\"\\d{4}\", year14)\n",
    "for each in result2:\n",
    "    new14 = each\n",
    "\n",
    "year15 = bs_data15.find(\"div\",class_=\"icc-home\").text\n",
    "result3 = re.findall(\"\\d{4}\", year15)\n",
    "for each in result3:\n",
    "    new15 = each\n",
    "\n",
    "year16 = bs_data16.find(\"div\",class_=\"icc-home\").text\n",
    "result4 = re.findall(\"\\d{4}\", year16)\n",
    "for each in result4:\n",
    "    new16 = each\n",
    "\n",
    "year17 = bs_data17.find(\"div\",class_=\"icc-home\").text\n",
    "result5 = re.findall(\"\\d{4}\", year17)\n",
    "for each in result5:\n",
    "    new17 = each\n",
    "\n",
    "year18 = bs_data18.find(\"div\",class_=\"icc-home\").text\n",
    "result6 = re.findall(\"\\d{4}\", year18)\n",
    "for each in result6:\n",
    "    new18 = each\n",
    "\n",
    "year19 = bs_data19.find(\"div\",class_=\"icc-home\").text\n",
    "result7 = re.findall(\"\\d{4}\", year19)\n",
    "for each in result7:\n",
    "    new19 = each\n",
    "\n",
    "year20 = bs_data20.find(\"div\",class_=\"icc-home\").text\n",
    "result8 = re.findall(\"\\d{4}\", year20)\n",
    "for each in result8:\n",
    "    new20 = each\n",
    "\n",
    "year21 = bs_data21.find(\"div\",class_=\"icc-home\").text\n",
    "result9 = re.findall(\"\\d{4}\", year21)\n",
    "for each in result9:\n",
    "    new21 = each\n",
    "\n",
    "year22 = bs_data22.find(\"div\",class_=\"icc-home\").text\n",
    "result10 = re.findall(\"\\d{4}\", year22)\n",
    "for each in result10:\n",
    "    new22 = each"
   ]
  },
  {
   "cell_type": "markdown",
   "metadata": {},
   "source": [
    "# Creating a Data Frame for Players"
   ]
  },
  {
   "cell_type": "code",
   "execution_count": 6,
   "metadata": {},
   "outputs": [
    {
     "data": {
      "text/html": [
       "<div>\n",
       "<style scoped>\n",
       "    .dataframe tbody tr th:only-of-type {\n",
       "        vertical-align: middle;\n",
       "    }\n",
       "\n",
       "    .dataframe tbody tr th {\n",
       "        vertical-align: top;\n",
       "    }\n",
       "\n",
       "    .dataframe thead th {\n",
       "        text-align: right;\n",
       "    }\n",
       "</style>\n",
       "<table border=\"1\" class=\"dataframe\">\n",
       "  <thead>\n",
       "    <tr style=\"text-align: right;\">\n",
       "      <th></th>\n",
       "      <th>Player</th>\n",
       "      <th>Matches</th>\n",
       "      <th>Innings</th>\n",
       "      <th>Notout</th>\n",
       "      <th>Runs</th>\n",
       "      <th>Highestscore</th>\n",
       "      <th>Average</th>\n",
       "      <th>Ballsfaced</th>\n",
       "      <th>StrikeRate</th>\n",
       "      <th>Hundreds</th>\n",
       "      <th>Fifties</th>\n",
       "      <th>Ducks</th>\n",
       "      <th>Fours</th>\n",
       "      <th>Sixes</th>\n",
       "      <th>year</th>\n",
       "    </tr>\n",
       "  </thead>\n",
       "  <tbody>\n",
       "    <tr>\n",
       "      <th>0</th>\n",
       "      <td>MEK Hussey</td>\n",
       "      <td>17</td>\n",
       "      <td>17</td>\n",
       "      <td>3</td>\n",
       "      <td>733</td>\n",
       "      <td>95</td>\n",
       "      <td>52.35</td>\n",
       "      <td>566</td>\n",
       "      <td>129.50</td>\n",
       "      <td>0</td>\n",
       "      <td>6</td>\n",
       "      <td>0</td>\n",
       "      <td>81</td>\n",
       "      <td>17</td>\n",
       "      <td>2013</td>\n",
       "    </tr>\n",
       "    <tr>\n",
       "      <th>1</th>\n",
       "      <td>CH Gayle</td>\n",
       "      <td>16</td>\n",
       "      <td>16</td>\n",
       "      <td>4</td>\n",
       "      <td>708</td>\n",
       "      <td>175</td>\n",
       "      <td>59.00</td>\n",
       "      <td>453</td>\n",
       "      <td>156.29</td>\n",
       "      <td>1</td>\n",
       "      <td>4</td>\n",
       "      <td>0</td>\n",
       "      <td>57</td>\n",
       "      <td>51</td>\n",
       "      <td>2013</td>\n",
       "    </tr>\n",
       "    <tr>\n",
       "      <th>2</th>\n",
       "      <td>V Kohli</td>\n",
       "      <td>16</td>\n",
       "      <td>16</td>\n",
       "      <td>2</td>\n",
       "      <td>634</td>\n",
       "      <td>99</td>\n",
       "      <td>45.28</td>\n",
       "      <td>457</td>\n",
       "      <td>138.73</td>\n",
       "      <td>0</td>\n",
       "      <td>6</td>\n",
       "      <td>0</td>\n",
       "      <td>64</td>\n",
       "      <td>22</td>\n",
       "      <td>2013</td>\n",
       "    </tr>\n",
       "    <tr>\n",
       "      <th>3</th>\n",
       "      <td>SK Raina</td>\n",
       "      <td>18</td>\n",
       "      <td>17</td>\n",
       "      <td>4</td>\n",
       "      <td>548</td>\n",
       "      <td>100</td>\n",
       "      <td>42.15</td>\n",
       "      <td>365</td>\n",
       "      <td>150.13</td>\n",
       "      <td>1</td>\n",
       "      <td>4</td>\n",
       "      <td>3</td>\n",
       "      <td>50</td>\n",
       "      <td>18</td>\n",
       "      <td>2013</td>\n",
       "    </tr>\n",
       "    <tr>\n",
       "      <th>4</th>\n",
       "      <td>SR Watson</td>\n",
       "      <td>16</td>\n",
       "      <td>16</td>\n",
       "      <td>2</td>\n",
       "      <td>543</td>\n",
       "      <td>101</td>\n",
       "      <td>38.78</td>\n",
       "      <td>380</td>\n",
       "      <td>142.89</td>\n",
       "      <td>1</td>\n",
       "      <td>2</td>\n",
       "      <td>0</td>\n",
       "      <td>59</td>\n",
       "      <td>22</td>\n",
       "      <td>2013</td>\n",
       "    </tr>\n",
       "    <tr>\n",
       "      <th>...</th>\n",
       "      <td>...</td>\n",
       "      <td>...</td>\n",
       "      <td>...</td>\n",
       "      <td>...</td>\n",
       "      <td>...</td>\n",
       "      <td>...</td>\n",
       "      <td>...</td>\n",
       "      <td>...</td>\n",
       "      <td>...</td>\n",
       "      <td>...</td>\n",
       "      <td>...</td>\n",
       "      <td>...</td>\n",
       "      <td>...</td>\n",
       "      <td>...</td>\n",
       "      <td>...</td>\n",
       "    </tr>\n",
       "    <tr>\n",
       "      <th>493</th>\n",
       "      <td>R Tewatia</td>\n",
       "      <td>16</td>\n",
       "      <td>12</td>\n",
       "      <td>5</td>\n",
       "      <td>217</td>\n",
       "      <td>43</td>\n",
       "      <td>31.00</td>\n",
       "      <td>147</td>\n",
       "      <td>147.61</td>\n",
       "      <td>0</td>\n",
       "      <td>0</td>\n",
       "      <td>0</td>\n",
       "      <td>22</td>\n",
       "      <td>9</td>\n",
       "      <td>2022</td>\n",
       "    </tr>\n",
       "    <tr>\n",
       "      <th>494</th>\n",
       "      <td>KS Williamson</td>\n",
       "      <td>13</td>\n",
       "      <td>13</td>\n",
       "      <td>2</td>\n",
       "      <td>216</td>\n",
       "      <td>57</td>\n",
       "      <td>19.63</td>\n",
       "      <td>231</td>\n",
       "      <td>93.50</td>\n",
       "      <td>0</td>\n",
       "      <td>1</td>\n",
       "      <td>1</td>\n",
       "      <td>16</td>\n",
       "      <td>8</td>\n",
       "      <td>2022</td>\n",
       "    </tr>\n",
       "    <tr>\n",
       "      <th>495</th>\n",
       "      <td>PBB Rajapaksa</td>\n",
       "      <td>9</td>\n",
       "      <td>9</td>\n",
       "      <td>0</td>\n",
       "      <td>206</td>\n",
       "      <td>43</td>\n",
       "      <td>22.88</td>\n",
       "      <td>129</td>\n",
       "      <td>159.68</td>\n",
       "      <td>0</td>\n",
       "      <td>0</td>\n",
       "      <td>0</td>\n",
       "      <td>16</td>\n",
       "      <td>13</td>\n",
       "      <td>2022</td>\n",
       "    </tr>\n",
       "    <tr>\n",
       "      <th>496</th>\n",
       "      <td>MA Agarwal</td>\n",
       "      <td>13</td>\n",
       "      <td>12</td>\n",
       "      <td>0</td>\n",
       "      <td>196</td>\n",
       "      <td>52</td>\n",
       "      <td>16.33</td>\n",
       "      <td>160</td>\n",
       "      <td>122.50</td>\n",
       "      <td>0</td>\n",
       "      <td>1</td>\n",
       "      <td>1</td>\n",
       "      <td>23</td>\n",
       "      <td>6</td>\n",
       "      <td>2022</td>\n",
       "    </tr>\n",
       "    <tr>\n",
       "      <th>497</th>\n",
       "      <td>R Ashwin</td>\n",
       "      <td>17</td>\n",
       "      <td>12</td>\n",
       "      <td>5</td>\n",
       "      <td>191</td>\n",
       "      <td>50</td>\n",
       "      <td>27.28</td>\n",
       "      <td>135</td>\n",
       "      <td>141.48</td>\n",
       "      <td>0</td>\n",
       "      <td>1</td>\n",
       "      <td>0</td>\n",
       "      <td>14</td>\n",
       "      <td>9</td>\n",
       "      <td>2022</td>\n",
       "    </tr>\n",
       "  </tbody>\n",
       "</table>\n",
       "<p>498 rows × 15 columns</p>\n",
       "</div>"
      ],
      "text/plain": [
       "            Player Matches Innings Notout Runs Highestscore Average  \\\n",
       "0       MEK Hussey      17      17      3  733           95   52.35   \n",
       "1         CH Gayle      16      16      4  708          175   59.00   \n",
       "2          V Kohli      16      16      2  634           99   45.28   \n",
       "3         SK Raina      18      17      4  548          100   42.15   \n",
       "4        SR Watson      16      16      2  543          101   38.78   \n",
       "..             ...     ...     ...    ...  ...          ...     ...   \n",
       "493      R Tewatia      16      12      5  217           43   31.00   \n",
       "494  KS Williamson      13      13      2  216           57   19.63   \n",
       "495  PBB Rajapaksa       9       9      0  206           43   22.88   \n",
       "496     MA Agarwal      13      12      0  196           52   16.33   \n",
       "497       R Ashwin      17      12      5  191           50   27.28   \n",
       "\n",
       "    Ballsfaced StrikeRate Hundreds Fifties Ducks Fours Sixes  year  \n",
       "0          566     129.50        0       6     0    81    17  2013  \n",
       "1          453     156.29        1       4     0    57    51  2013  \n",
       "2          457     138.73        0       6     0    64    22  2013  \n",
       "3          365     150.13        1       4     3    50    18  2013  \n",
       "4          380     142.89        1       2     0    59    22  2013  \n",
       "..         ...        ...      ...     ...   ...   ...   ...   ...  \n",
       "493        147     147.61        0       0     0    22     9  2022  \n",
       "494        231      93.50        0       1     1    16     8  2022  \n",
       "495        129     159.68        0       0     0    16    13  2022  \n",
       "496        160     122.50        0       1     1    23     6  2022  \n",
       "497        135     141.48        0       1     0    14     9  2022  \n",
       "\n",
       "[498 rows x 15 columns]"
      ]
     },
     "execution_count": 6,
     "metadata": {},
     "output_type": "execute_result"
    }
   ],
   "source": [
    "#dataframe for players\n",
    "import pandas as pd\n",
    "import numpy as np\n",
    "dict1={\"Player\":0, \"Matches\":0, \"Innings\":0,\"Notout\":0, \"Runs\":0, \"Highestscore\":0, \"Average\":0, \"Ballsfaced\":0,\"StrikeRate\":0,\"Hundreds\":0,\"Fifties\":0,\"Ducks\":0,\"Fours\":0,\"Sixes\":0,\"year\":0}\n",
    "df = pd.DataFrame(columns =[\"Player\", \"Matches\", \"Innings\",\"Notout\", \"Runs\", \"Highestscore\", \"Average\", \"Ballsfaced\",\"StrikeRate\",\"Hundreds\",\"Fifties\",\"Ducks\",\"Fours\",\"Sixes\"])\n",
    "table13 = bs_data13.find_all(\"table\",class_=\"engineTable\")\n",
    "table14 = bs_data14.find_all(\"table\",class_=\"engineTable\")\n",
    "table15 = bs_data15.find_all(\"table\",class_=\"engineTable\")\n",
    "table16 = bs_data16.find_all(\"table\",class_=\"engineTable\")\n",
    "table17 = bs_data17.find_all(\"table\",class_=\"engineTable\")\n",
    "table18 = bs_data18.find_all(\"table\",class_=\"engineTable\")\n",
    "table19 = bs_data19.find_all(\"table\",class_=\"engineTable\")\n",
    "table20 = bs_data20.find_all(\"table\",class_=\"engineTable\")\n",
    "table21 = bs_data21.find_all(\"table\",class_=\"engineTable\")\n",
    "table22 = bs_data22.find_all(\"table\",class_=\"engineTable\")\n",
    "for row in table13[0].find_all('tr'):\n",
    "    cell = row.find_all('td')\n",
    "    if len(cell)==14:\n",
    "        \n",
    "        dict13={\"Player\":cell[0].text, \"Matches\":cell[1].text, \"Innings\":cell[2].text,\"Notout\":cell[3].text, \"Runs\":cell[4].text, \"Highestscore\":cell[5].text, \"Average\":cell[6].text, \"Ballsfaced\":cell[7].text,\"StrikeRate\":cell[8].text,\"Hundreds\":cell[9].text,\"Fifties\":cell[10].text,\"Ducks\":cell[11].text,\"Fours\":cell[12].text,\"Sixes\":cell[13].text,\"year\":new13}\n",
    "        df =df.append(dict13,ignore_index =True)\n",
    "for row2 in table14[0].find_all('tr'):\n",
    "    cell2 = row2.find_all('td')\n",
    "    if len(cell2)==14:\n",
    "        dict14={\"Player\":cell2[0].text, \"Matches\":cell2[1].text, \"Innings\":cell2[2].text,\"Notout\":cell2[3].text, \"Runs\":cell2[4].text, \"Highestscore\":cell2[5].text, \"Average\":cell2[6].text, \"Ballsfaced\":cell2[7].text,\"StrikeRate\":cell2[8].text,\"Hundreds\":cell2[9].text,\"Fifties\":cell2[10].text,\"Ducks\":cell2[11].text,\"Fours\":cell2[12].text,\"Sixes\":cell2[13].text,\"year\":new14}\n",
    "        df=df.append(dict14,ignore_index =True)\n",
    "        \n",
    "for row3 in table15[0].find_all('tr'):\n",
    "    cell3 = row3.find_all('td')\n",
    "    if len(cell3)==14:\n",
    "        dict15={\"Player\":cell3[0].text, \"Matches\":cell3[1].text, \"Innings\":cell3[2].text,\"Notout\":cell3[3].text, \"Runs\":cell3[4].text, \"Highestscore\":cell3[5].text, \"Average\":cell3[6].text, \"Ballsfaced\":cell3[7].text,\"StrikeRate\":cell3[8].text,\"Hundreds\":cell3[9].text,\"Fifties\":cell3[10].text,\"Ducks\":cell3[11].text,\"Fours\":cell3[12].text,\"Sixes\":cell3[13].text,\"year\":new15}\n",
    "        df =df.append(dict15,ignore_index =True)\n",
    "for row4 in table16[0].find_all('tr'):\n",
    "    cell4 = row4.find_all('td')\n",
    "    if len(cell4)==14:\n",
    "        \n",
    "        dict16={\"Player\":cell4[0].text, \"Matches\":cell4[1].text, \"Innings\":cell4[2].text,\"Notout\":cell4[3].text, \"Runs\":cell4[4].text, \"Highestscore\":cell4[5].text, \"Average\":cell4[6].text, \"Ballsfaced\":cell4[7].text,\"StrikeRate\":cell4[8].text,\"Hundreds\":cell4[9].text,\"Fifties\":cell4[10].text,\"Ducks\":cell4[11].text,\"Fours\":cell4[12].text,\"Sixes\":cell4[13].text,\"year\":new16}\n",
    "        df =df.append(dict16,ignore_index =True)      \n",
    "for row5 in table17[0].find_all('tr'):\n",
    "    cell5 = row5.find_all('td')\n",
    "    if len(cell5)==14:\n",
    "        \n",
    "        dict17={\"Player\":cell5[0].text, \"Matches\":cell5[1].text, \"Innings\":cell5[2].text,\"Notout\":cell5[3].text, \"Runs\":cell5[4].text, \"Highestscore\":cell5[5].text, \"Average\":cell5[6].text, \"Ballsfaced\":cell5[7].text,\"StrikeRate\":cell5[8].text,\"Hundreds\":cell5[9].text,\"Fifties\":cell5[10].text,\"Ducks\":cell5[11].text,\"Fours\":cell5[12].text,\"Sixes\":cell5[13].text,\"year\":new17}\n",
    "        df =df.append(dict17,ignore_index =True)\n",
    "for row6 in table18[0].find_all('tr'):\n",
    "    cell6 = row6.find_all('td')\n",
    "    if len(cell6)==14:\n",
    "       \n",
    "        dict18={\"Player\":cell6[0].text, \"Matches\":cell6[1].text, \"Innings\":cell6[2].text,\"Notout\":cell6[3].text, \"Runs\":cell6[4].text, \"Highestscore\":cell6[5].text, \"Average\":cell6[6].text, \"Ballsfaced\":cell6[7].text,\"StrikeRate\":cell6[8].text,\"Hundreds\":cell6[9].text,\"Fifties\":cell6[10].text,\"Ducks\":cell6[11].text,\"Fours\":cell6[12].text,\"Sixes\":cell6[13].text,\"year\":new18}\n",
    "        df =df.append(dict18,ignore_index =True)\n",
    "for row7 in table19[0].find_all('tr'):\n",
    "    cell7 = row7.find_all('td')\n",
    "    if len(cell7)==14:\n",
    "        \n",
    "        dict19={\"Player\":cell7[0].text, \"Matches\":cell7[1].text, \"Innings\":cell7[2].text,\"Notout\":cell7[3].text, \"Runs\":cell7[4].text, \"Highestscore\":cell7[5].text, \"Average\":cell7[6].text, \"Ballsfaced\":cell7[7].text,\"StrikeRate\":cell7[8].text,\"Hundreds\":cell7[9].text,\"Fifties\":cell7[10].text,\"Ducks\":cell7[11].text,\"Fours\":cell7[12].text,\"Sixes\":cell7[13].text,\"year\":new19}\n",
    "        df =df.append(dict19,ignore_index =True)\n",
    "for row8 in table20[0].find_all('tr'):\n",
    "    cell8 = row8.find_all('td')\n",
    "    if len(cell8)==14:\n",
    "        \n",
    "        dict20={\"Player\":cell8[0].text, \"Matches\":cell8[1].text, \"Innings\":cell8[2].text,\"Notout\":cell8[3].text, \"Runs\":cell8[4].text, \"Highestscore\":cell8[5].text, \"Average\":cell8[6].text, \"Ballsfaced\":cell8[7].text,\"StrikeRate\":cell8[8].text,\"Hundreds\":cell8[9].text,\"Fifties\":cell8[10].text,\"Ducks\":cell8[11].text,\"Fours\":cell8[12].text,\"Sixes\":cell8[13].text,\"year\":new20}\n",
    "        df =df.append(dict20,ignore_index =True)\n",
    "for row9 in table21[0].find_all('tr'):\n",
    "    cell9 = row9.find_all('td')\n",
    "    if len(cell9)==14:\n",
    "        \n",
    "        dict21={\"Player\":cell9[0].text, \"Matches\":cell9[1].text, \"Innings\":cell9[2].text,\"Notout\":cell9[3].text, \"Runs\":cell9[4].text, \"Highestscore\":cell9[5].text, \"Average\":cell9[6].text, \"Ballsfaced\":cell9[7].text,\"StrikeRate\":cell9[8].text,\"Hundreds\":cell9[9].text,\"Fifties\":cell9[10].text,\"Ducks\":cell9[11].text,\"Fours\":cell9[12].text,\"Sixes\":cell9[13].text,\"year\":new21}\n",
    "        df =df.append(dict21,ignore_index =True)\n",
    "for row10 in table22[0].find_all('tr'):\n",
    "    cell10 = row10.find_all('td')\n",
    "    if len(cell10)==14:\n",
    "        \n",
    "        dict22={\"Player\":cell10[0].text, \"Matches\":cell10[1].text, \"Innings\":cell10[2].text,\"Notout\":cell10[3].text, \"Runs\":cell10[4].text, \"Highestscore\":cell10[5].text, \"Average\":cell10[6].text, \"Ballsfaced\":cell10[7].text,\"StrikeRate\":cell10[8].text,\"Hundreds\":cell10[9].text,\"Fifties\":cell10[10].text,\"Ducks\":cell10[11].text,\"Fours\":cell10[12].text,\"Sixes\":cell10[13].text,\"year\":new22}\n",
    "        df =df.append(dict22,ignore_index =True)     \n",
    "df['Highestscore']= df['Highestscore'].str.replace('*','')\n",
    "\n",
    "df"
   ]
  },
  {
   "cell_type": "code",
   "execution_count": 7,
   "metadata": {},
   "outputs": [],
   "source": [
    "#changing data types\n",
    "data_types =[\"Matches\", \"Innings\",\"Notout\", \"Runs\", \"Highestscore\", \"Average\", \"Ballsfaced\",\"StrikeRate\",\"Hundreds\",\"Fifties\",\"Ducks\",\"Fours\",\"Sixes\",\"year\"]\n",
    "for each in range(0,len(data_types)):\n",
    "    df[data_types[each]] = pd.to_numeric(df[data_types[each]])\n",
    "df.dtypes\n",
    "df.to_csv('webscraping.csv',index=False)"
   ]
  },
  {
   "cell_type": "markdown",
   "metadata": {},
   "source": [
    "# Team data extraction and cleansing"
   ]
  },
  {
   "cell_type": "code",
   "execution_count": 8,
   "metadata": {},
   "outputs": [],
   "source": [
    "#team data extraction\n",
    "url_team2013 =\"https://www.espncricinfo.com/series/pepsi-indian-premier-league-2013-586733/points-table-standings\"\n",
    "rest_team2013 = requests.get(url_team2013)\n",
    "data_team2013 = rest_team2013.text\n",
    "bs_team2013_data = BeautifulSoup(data_team2013)\n",
    "table_team2013 =bs_team2013_data.find_all(\"tbody\",class_=\"ds-text-center\")\n",
    "\n",
    "url_team2014=\"https://www.espncricinfo.com/series/pepsi-indian-premier-league-2014-695871/points-table-standings\"\n",
    "rest_team2014 = requests.get(url_team2014)\n",
    "data_team2014= rest_team2014.text\n",
    "bs_team2014_data = BeautifulSoup(data_team2014)\n",
    "table_team2014 =bs_team2014_data.find_all(\"tbody\",class_=\"ds-text-center\")\n",
    "\n",
    "url_team2015=\"https://www.espncricinfo.com/series/pepsi-indian-premier-league-2015-791129/points-table-standings\"\n",
    "rest_team2015 = requests.get(url_team2015)\n",
    "data_team2015= rest_team2015.text\n",
    "bs_team2015_data = BeautifulSoup(data_team2015)\n",
    "table_team2015 =bs_team2015_data.find_all(\"tbody\",class_=\"ds-text-center\")\n",
    "\n",
    "url_team2016 =\"https://www.espncricinfo.com/series/ipl-2016-968923/points-table-standings\"\n",
    "rest_team2016 = requests.get(url_team2016)\n",
    "data_team2016 = rest_team2016.text\n",
    "bs_team2016_data = BeautifulSoup(data_team2016)\n",
    "table_team2016 =bs_team2016_data.find_all(\"tbody\",class_=\"ds-text-center\")\n",
    "\n",
    "url_team2017 =\"https://www.espncricinfo.com/series/ipl-2017-1078425/points-table-standings\"\n",
    "rest_team2017 = requests.get(url_team2017)\n",
    "data_team2017 = rest_team2017.text\n",
    "bs_team2017_data = BeautifulSoup(data_team2017)\n",
    "table_team2017 =bs_team2017_data.find_all(\"tbody\",class_=\"ds-text-center\")\n",
    "\n",
    "url_team2018 =\"https://www.espncricinfo.com/series/ipl-2018-1131611/points-table-standings\"\n",
    "rest_team2018 = requests.get(url_team2018)\n",
    "data_team2018 = rest_team2018.text\n",
    "bs_team2018_data = BeautifulSoup(data_team2018)\n",
    "table_team2018 =bs_team2018_data.find_all(\"tbody\",class_=\"ds-text-center\")\n",
    "\n",
    "url_team2019 =\"https://www.espncricinfo.com/series/ipl-2019-1165643/points-table-standings\"\n",
    "rest_team2019 = requests.get(url_team2019)\n",
    "data_team2019 = rest_team2019.text\n",
    "bs_team2019_data = BeautifulSoup(data_team2019)\n",
    "table_team2019 =bs_team2019_data.find_all(\"tbody\",class_=\"ds-text-center\")\n",
    "\n",
    "url_team2020 =\"https://www.espncricinfo.com/series/ipl-2020-21-1210595/points-table-standings\"\n",
    "rest_team2020 = requests.get(url_team2020)\n",
    "data_team2020 = rest_team2020.text\n",
    "bs_team2020_data = BeautifulSoup(data_team2020)\n",
    "table_team2020 =bs_team2020_data.find_all(\"tbody\",class_=\"ds-text-center\")\n",
    "\n",
    "url_team2021 =\"https://www.espncricinfo.com/series/ipl-2021-1249214/points-table-standings\"\n",
    "rest_team2021 = requests.get(url_team2021)\n",
    "data_team2021 = rest_team2021.text\n",
    "bs_team2021_data = BeautifulSoup(data_team2021)\n",
    "table_team2021 =bs_team2021_data.find_all(\"tbody\",class_=\"ds-text-center\")\n",
    "\n",
    "url_team2022 =\"https://www.espncricinfo.com/series/indian-premier-league-2022-1298423/points-table-standings\"\n",
    "rest_team2022 = requests.get(url_team2022)\n",
    "data_team2022= rest_team2022.text\n",
    "bs_team2022_data = BeautifulSoup(data_team2022)\n",
    "table_team2022 =bs_team2022_data.find_all(\"tbody\",class_=\"ds-text-center\")"
   ]
  },
  {
   "cell_type": "markdown",
   "metadata": {},
   "source": [
    "# Creating a DataFrame for Teams"
   ]
  },
  {
   "cell_type": "code",
   "execution_count": 9,
   "metadata": {},
   "outputs": [
    {
     "data": {
      "text/html": [
       "<div>\n",
       "<style scoped>\n",
       "    .dataframe tbody tr th:only-of-type {\n",
       "        vertical-align: middle;\n",
       "    }\n",
       "\n",
       "    .dataframe tbody tr th {\n",
       "        vertical-align: top;\n",
       "    }\n",
       "\n",
       "    .dataframe thead th {\n",
       "        text-align: right;\n",
       "    }\n",
       "</style>\n",
       "<table border=\"1\" class=\"dataframe\">\n",
       "  <thead>\n",
       "    <tr style=\"text-align: right;\">\n",
       "      <th></th>\n",
       "      <th>Teams</th>\n",
       "      <th>Matches</th>\n",
       "      <th>Wins</th>\n",
       "      <th>Losses</th>\n",
       "      <th>NoResult</th>\n",
       "      <th>Points</th>\n",
       "      <th>NetRunRate</th>\n",
       "      <th>For</th>\n",
       "      <th>Against</th>\n",
       "      <th>Last5Matches</th>\n",
       "      <th>Year</th>\n",
       "    </tr>\n",
       "  </thead>\n",
       "  <tbody>\n",
       "    <tr>\n",
       "      <th>0</th>\n",
       "      <td>Chennai Super Kings</td>\n",
       "      <td>16</td>\n",
       "      <td>11</td>\n",
       "      <td>5</td>\n",
       "      <td>0</td>\n",
       "      <td>22</td>\n",
       "      <td>0.530</td>\n",
       "      <td>2461/303.5</td>\n",
       "      <td>2310/305.1</td>\n",
       "      <td>LWLWL</td>\n",
       "      <td>2013</td>\n",
       "    </tr>\n",
       "    <tr>\n",
       "      <th>1</th>\n",
       "      <td>Mumbai Indians</td>\n",
       "      <td>16</td>\n",
       "      <td>11</td>\n",
       "      <td>5</td>\n",
       "      <td>0</td>\n",
       "      <td>22</td>\n",
       "      <td>0.441</td>\n",
       "      <td>2514/318.1</td>\n",
       "      <td>2350/315.0</td>\n",
       "      <td>WWLLW</td>\n",
       "      <td>2013</td>\n",
       "    </tr>\n",
       "    <tr>\n",
       "      <th>2</th>\n",
       "      <td>Rajasthan Royals</td>\n",
       "      <td>16</td>\n",
       "      <td>10</td>\n",
       "      <td>6</td>\n",
       "      <td>0</td>\n",
       "      <td>20</td>\n",
       "      <td>0.322</td>\n",
       "      <td>2405/310.5</td>\n",
       "      <td>2326/313.4</td>\n",
       "      <td>LWLLW</td>\n",
       "      <td>2013</td>\n",
       "    </tr>\n",
       "    <tr>\n",
       "      <th>3</th>\n",
       "      <td>Sunrisers Hyderabad</td>\n",
       "      <td>16</td>\n",
       "      <td>10</td>\n",
       "      <td>6</td>\n",
       "      <td>0</td>\n",
       "      <td>20</td>\n",
       "      <td>0.003</td>\n",
       "      <td>2166/308.5</td>\n",
       "      <td>2206/314.4</td>\n",
       "      <td>LWWLW</td>\n",
       "      <td>2013</td>\n",
       "    </tr>\n",
       "    <tr>\n",
       "      <th>4</th>\n",
       "      <td>Royal Challengers Bangalore</td>\n",
       "      <td>16</td>\n",
       "      <td>9</td>\n",
       "      <td>7</td>\n",
       "      <td>0</td>\n",
       "      <td>18</td>\n",
       "      <td>0.457</td>\n",
       "      <td>2571/301.0</td>\n",
       "      <td>2451/303.1</td>\n",
       "      <td>WLLWL</td>\n",
       "      <td>2013</td>\n",
       "    </tr>\n",
       "    <tr>\n",
       "      <th>...</th>\n",
       "      <td>...</td>\n",
       "      <td>...</td>\n",
       "      <td>...</td>\n",
       "      <td>...</td>\n",
       "      <td>...</td>\n",
       "      <td>...</td>\n",
       "      <td>...</td>\n",
       "      <td>...</td>\n",
       "      <td>...</td>\n",
       "      <td>...</td>\n",
       "      <td>...</td>\n",
       "    </tr>\n",
       "    <tr>\n",
       "      <th>78</th>\n",
       "      <td>Punjab Kings</td>\n",
       "      <td>14</td>\n",
       "      <td>7</td>\n",
       "      <td>7</td>\n",
       "      <td>0</td>\n",
       "      <td>14</td>\n",
       "      <td>0.126</td>\n",
       "      <td>2343/270.1</td>\n",
       "      <td>2252/263.3</td>\n",
       "      <td>WLWLW</td>\n",
       "      <td>2022</td>\n",
       "    </tr>\n",
       "    <tr>\n",
       "      <th>79</th>\n",
       "      <td>Kolkata Knight Riders</td>\n",
       "      <td>14</td>\n",
       "      <td>6</td>\n",
       "      <td>8</td>\n",
       "      <td>0</td>\n",
       "      <td>12</td>\n",
       "      <td>0.146</td>\n",
       "      <td>2223/268.1</td>\n",
       "      <td>2249/276.1</td>\n",
       "      <td>LWWLW</td>\n",
       "      <td>2022</td>\n",
       "    </tr>\n",
       "    <tr>\n",
       "      <th>80</th>\n",
       "      <td>Sunrisers Hyderabad</td>\n",
       "      <td>14</td>\n",
       "      <td>6</td>\n",
       "      <td>8</td>\n",
       "      <td>0</td>\n",
       "      <td>12</td>\n",
       "      <td>-0.379</td>\n",
       "      <td>2197/261.3</td>\n",
       "      <td>2416/275.1</td>\n",
       "      <td>LWLLL</td>\n",
       "      <td>2022</td>\n",
       "    </tr>\n",
       "    <tr>\n",
       "      <th>81</th>\n",
       "      <td>Chennai Super Kings</td>\n",
       "      <td>14</td>\n",
       "      <td>4</td>\n",
       "      <td>10</td>\n",
       "      <td>0</td>\n",
       "      <td>8</td>\n",
       "      <td>-0.203</td>\n",
       "      <td>2288/280.0</td>\n",
       "      <td>2254/269.1</td>\n",
       "      <td>LLLWL</td>\n",
       "      <td>2022</td>\n",
       "    </tr>\n",
       "    <tr>\n",
       "      <th>82</th>\n",
       "      <td>Mumbai Indians</td>\n",
       "      <td>14</td>\n",
       "      <td>4</td>\n",
       "      <td>10</td>\n",
       "      <td>0</td>\n",
       "      <td>8</td>\n",
       "      <td>-0.506</td>\n",
       "      <td>2217/273.2</td>\n",
       "      <td>2351/272.5</td>\n",
       "      <td>WLWLW</td>\n",
       "      <td>2022</td>\n",
       "    </tr>\n",
       "  </tbody>\n",
       "</table>\n",
       "<p>83 rows × 11 columns</p>\n",
       "</div>"
      ],
      "text/plain": [
       "                          Teams Matches Wins Losses NoResult Points  \\\n",
       "0           Chennai Super Kings      16   11      5        0     22   \n",
       "1                Mumbai Indians      16   11      5        0     22   \n",
       "2              Rajasthan Royals      16   10      6        0     20   \n",
       "3           Sunrisers Hyderabad      16   10      6        0     20   \n",
       "4   Royal Challengers Bangalore      16    9      7        0     18   \n",
       "..                          ...     ...  ...    ...      ...    ...   \n",
       "78                 Punjab Kings      14    7      7        0     14   \n",
       "79        Kolkata Knight Riders      14    6      8        0     12   \n",
       "80          Sunrisers Hyderabad      14    6      8        0     12   \n",
       "81          Chennai Super Kings      14    4     10        0      8   \n",
       "82               Mumbai Indians      14    4     10        0      8   \n",
       "\n",
       "   NetRunRate         For     Against Last5Matches  Year  \n",
       "0       0.530  2461/303.5  2310/305.1        LWLWL  2013  \n",
       "1       0.441  2514/318.1  2350/315.0        WWLLW  2013  \n",
       "2       0.322  2405/310.5  2326/313.4        LWLLW  2013  \n",
       "3       0.003  2166/308.5  2206/314.4        LWWLW  2013  \n",
       "4       0.457  2571/301.0  2451/303.1        WLLWL  2013  \n",
       "..        ...         ...         ...          ...   ...  \n",
       "78      0.126  2343/270.1  2252/263.3        WLWLW  2022  \n",
       "79      0.146  2223/268.1  2249/276.1        LWWLW  2022  \n",
       "80     -0.379  2197/261.3  2416/275.1        LWLLL  2022  \n",
       "81     -0.203  2288/280.0  2254/269.1        LLLWL  2022  \n",
       "82     -0.506  2217/273.2  2351/272.5        WLWLW  2022  \n",
       "\n",
       "[83 rows x 11 columns]"
      ]
     },
     "execution_count": 9,
     "metadata": {},
     "output_type": "execute_result"
    }
   ],
   "source": [
    "#dataframe for teams\n",
    "import re\n",
    "import pandas as pd\n",
    "import numpy as np\n",
    "df_team =pd.DataFrame(columns=['Teams','Matches', 'Wins','Losses', 'NoResult',\"Points\",'NetRunRate',\"For\",\"Against\",\"Last5Matches\",\"Year\"])\n",
    "\n",
    "for row_team2013 in table_team2013[0].find_all('tr'):\n",
    "    cell_team2013 = row_team2013.find_all('td')\n",
    "    if len(cell_team2013)== 11:\n",
    "        year = 2013\n",
    "        dict_team2013 ={'Teams':cell_team2013[0].text,'Matches':cell_team2013[1].text, 'Wins':cell_team2013[2].text,'Losses':cell_team2013[3].text, 'NoResult':cell_team2013[5].text,\"Points\":cell_team2013[6].text,'NetRunRate':cell_team2013[7].text,\"For\":cell_team2013[8].text,\"Against\":cell_team2013[9].text,\"Last5Matches\":cell_team2013[10].text,\"Year\":year}\n",
    "        df_team = df_team.append(dict_team2013,ignore_index =True)\n",
    "        df_team[\"Teams\"]= df_team[\"Teams\"].str.replace('\\d','')\n",
    "for row_team2014 in table_team2014[0].find_all('tr'):\n",
    "    cell_team2014 = row_team2014.find_all('td')\n",
    "    if len(cell_team2014)== 11:\n",
    "        year = 2014\n",
    "        dict_team2014 ={'Teams':cell_team2014[0].text,'Matches':cell_team2014[1].text, 'Wins':cell_team2014[2].text,'Losses':cell_team2014[3].text, 'NoResult':cell_team2014[5].text,\"Points\":cell_team2014[6].text,'NetRunRate':cell_team2014[7].text,\"For\":cell_team2014[8].text,\"Against\":cell_team2014[9].text,\"Last5Matches\":cell_team2014[10].text,\"Year\":year}\n",
    "        df_team = df_team.append(dict_team2014,ignore_index =True)\n",
    "        df_team[\"Teams\"]= df_team[\"Teams\"].str.replace('\\d','')\n",
    "\n",
    "for row_team2015 in table_team2015[0].find_all('tr'):\n",
    "    cell_team2015 = row_team2015.find_all('td')\n",
    "    if len(cell_team2015)== 11:\n",
    "        year = 2015\n",
    "        dict_team2015 ={'Teams':cell_team2015[0].text,'Matches':cell_team2015[1].text, 'Wins':cell_team2015[2].text,'Losses':cell_team2015[3].text, 'NoResult':cell_team2015[5].text,\"Points\":cell_team2015[6].text,'NetRunRate':cell_team2015[7].text,\"For\":cell_team2015[8].text,\"Against\":cell_team2015[9].text,\"Last5Matches\":cell_team2015[10].text,\"Year\":year}\n",
    "        df_team = df_team.append(dict_team2015,ignore_index =True)\n",
    "        df_team[\"Teams\"]= df_team[\"Teams\"].str.replace('\\d','')\n",
    "        \n",
    "\n",
    "for row_team2016 in table_team2016[0].find_all('tr'):\n",
    "    cell_team2016 = row_team2016.find_all('td')\n",
    "    if len(cell_team2016)== 11:\n",
    "        year = 2016\n",
    "        dict_team2016 ={'Teams':cell_team2016[0].text,'Matches':cell_team2016[1].text, 'Wins':cell_team2016[2].text,'Losses':cell_team2016[3].text, 'NoResult':cell_team2016[5].text,\"Points\":cell_team2016[6].text,'NetRunRate':cell_team2016[7].text,\"For\":cell_team2016[8].text,\"Against\":cell_team2016[9].text,\"Last5Matches\":cell_team2016[10].text,\"Year\":year}\n",
    "        df_team = df_team.append(dict_team2016,ignore_index =True)\n",
    "        df_team[\"Teams\"]= df_team[\"Teams\"].str.replace('\\d','')\n",
    "        \n",
    "\n",
    "for row_team2017 in table_team2017[0].find_all('tr'):\n",
    "    cell_team2017 = row_team2017.find_all('td')\n",
    "    if len(cell_team2017)== 11:\n",
    "        year = 2017\n",
    "        dict_team2017 ={'Teams':cell_team2017[0].text,'Matches':cell_team2017[1].text, 'Wins':cell_team2017[2].text,'Losses':cell_team2017[3].text, 'NoResult':cell_team2017[5].text,\"Points\":cell_team2017[6].text,'NetRunRate':cell_team2017[7].text,\"For\":cell_team2017[8].text,\"Against\":cell_team2017[9].text,\"Last5Matches\":cell_team2017[10].text,\"Year\":year}\n",
    "        df_team = df_team.append(dict_team2017,ignore_index =True)\n",
    "        df_team[\"Teams\"]= df_team[\"Teams\"].str.replace('\\d','')\n",
    "        \n",
    "\n",
    "for row_team2018 in table_team2018[0].find_all('tr'):\n",
    "    cell_team2018 = row_team2018.find_all('td')\n",
    "    if len(cell_team2018)== 11:\n",
    "        year = 2018\n",
    "        dict_team2018 ={'Teams':cell_team2018[0].text,'Matches':cell_team2018[1].text, 'Wins':cell_team2018[2].text,'Losses':cell_team2018[3].text, 'NoResult':cell_team2018[5].text,\"Points\":cell_team2018[6].text,'NetRunRate':cell_team2018[7].text,\"For\":cell_team2018[8].text,\"Against\":cell_team2018[9].text,\"Last5Matches\":cell_team2018[10].text,\"Year\":year}\n",
    "        df_team = df_team.append(dict_team2018,ignore_index =True)\n",
    "        df_team[\"Teams\"]= df_team[\"Teams\"].str.replace('\\d','')\n",
    "\n",
    "for row_team2019 in table_team2019[0].find_all('tr'):\n",
    "    cell_team2019 = row_team2019.find_all('td')\n",
    "    if len(cell_team2019)== 11:\n",
    "        year = 2019\n",
    "        dict_team2019 ={'Teams':cell_team2019[0].text,'Matches':cell_team2019[1].text, 'Wins':cell_team2019[2].text,'Losses':cell_team2019[3].text, 'NoResult':cell_team2019[5].text,\"Points\":cell_team2019[6].text,'NetRunRate':cell_team2019[7].text,\"For\":cell_team2019[8].text,\"Against\":cell_team2019[9].text,\"Last5Matches\":cell_team2019[10].text,\"Year\":year}\n",
    "        df_team = df_team.append(dict_team2019,ignore_index =True)\n",
    "        df_team[\"Teams\"]= df_team[\"Teams\"].str.replace('\\d','')\n",
    "        \n",
    "\n",
    "for row_team2020 in table_team2020[0].find_all('tr'):\n",
    "    cell_team2020 = row_team2020.find_all('td')\n",
    "    if len(cell_team2020)== 10:\n",
    "        year = 2020\n",
    "        dict_team2020 ={'Teams':cell_team2020[0].text,'Matches':cell_team2020[1].text, 'Wins':cell_team2020[2].text,'Losses':cell_team2020[3].text, 'NoResult':cell_team2020[4].text,\"Points\":cell_team2020[5].text,'NetRunRate':cell_team2020[6].text,\"For\":cell_team2020[7].text,\"Against\":cell_team2020[8].text,\"Last5Matches\":cell_team2020[9].text,\"Year\":year}\n",
    "        df_team = df_team.append(dict_team2020,ignore_index =True)\n",
    "        df_team[\"Teams\"]= df_team[\"Teams\"].str.replace('\\d','')\n",
    "\n",
    "for row_team2021 in table_team2021[0].find_all('tr'):\n",
    "    cell_team2021 = row_team2021.find_all('td')\n",
    "    if len(cell_team2021)== 11:\n",
    "        year = 2021\n",
    "        dict_team2021 ={'Teams':cell_team2021[0].text,'Matches':cell_team2021[1].text, 'Wins':cell_team2021[2].text,'Losses':cell_team2021[3].text, 'NoResult':cell_team2021[4].text,\"Points\":cell_team2021[6].text,'NetRunRate':cell_team2021[7].text,\"For\":cell_team2021[8].text,\"Against\":cell_team2021[9].text,\"Last5Matches\":cell_team2021[10].text,\"Year\":year}\n",
    "        df_team = df_team.append(dict_team2021,ignore_index =True)\n",
    "        df_team[\"Teams\"]= df_team[\"Teams\"].str.replace('\\d','')\n",
    "\n",
    "for row_team2022 in table_team2022[0].find_all('tr'):\n",
    "    cell_team2022 = row_team2022.find_all('td')\n",
    "    if len(cell_team2022)== 11:\n",
    "        year = 2022\n",
    "        dict_team2022 ={'Teams':cell_team2022[0].text,'Matches':cell_team2022[1].text, 'Wins':cell_team2022[2].text,'Losses':cell_team2022[3].text, 'NoResult':cell_team2022[4].text,\"Points\":cell_team2022[6].text,'NetRunRate':cell_team2022[7].text,\"For\":cell_team2022[8].text,\"Against\":cell_team2022[9].text,\"Last5Matches\":cell_team2022[10].text,\"Year\":year}\n",
    "        df_team = df_team.append(dict_team2022,ignore_index =True)\n",
    "        df_team[\"Teams\"]= df_team[\"Teams\"].str.replace('\\d','')\n",
    "df_team.to_csv('webscraping_teams.csv',index=False)\n",
    "df_team"
   ]
  },
  {
   "cell_type": "markdown",
   "metadata": {},
   "source": [
    "# Data analysis of players and teams"
   ]
  },
  {
   "cell_type": "code",
   "execution_count": 10,
   "metadata": {},
   "outputs": [
    {
     "data": {
      "text/plain": [
       "Teams           0\n",
       "Matches         0\n",
       "Wins            0\n",
       "Losses          0\n",
       "NoResult        0\n",
       "Points          0\n",
       "NetRunRate      0\n",
       "For             0\n",
       "Against         0\n",
       "Last5Matches    0\n",
       "Year            0\n",
       "dtype: int64"
      ]
     },
     "execution_count": 10,
     "metadata": {},
     "output_type": "execute_result"
    }
   ],
   "source": [
    "df.isnull().sum()\n",
    "df_team.isnull().sum()"
   ]
  },
  {
   "cell_type": "code",
   "execution_count": 12,
   "metadata": {},
   "outputs": [],
   "source": [
    "#performing analysis by reading csv\n",
    "import matplotlib.pyplot as plt\n",
    "import seaborn as sns\n",
    "import warnings\n",
    "warnings.filterwarnings(\"ignore\")\n",
    "players_analysis =pd.read_csv('webscraping.csv' )\n"
   ]
  },
  {
   "cell_type": "markdown",
   "metadata": {},
   "source": [
    "# Univariate Analysis For Players"
   ]
  },
  {
   "cell_type": "code",
   "execution_count": 65,
   "metadata": {},
   "outputs": [
    {
     "data": {
      "text/plain": [
       "Text(0, 0.5, 'Number of Matches all time')"
      ]
     },
     "execution_count": 65,
     "metadata": {},
     "output_type": "execute_result"
    },
    {
     "data": {
      "image/png": "[encoded data removed]",
      "text/plain": [
       "<Figure size 432x288 with 1 Axes>"
      ]
     },
     "metadata": {
      "needs_background": "light"
     },
     "output_type": "display_data"
    }
   ],
   "source": [
    "plt.hist(players_analysis[\"Matches\"])\n",
    "plt.xlabel(\"Matches\")\n",
    "plt.ylabel(\"Number of Matches all time\")\n",
    "#Most of the players have played around 160 matches in this 10 years"
   ]
  },
  {
   "cell_type": "code",
   "execution_count": 67,
   "metadata": {},
   "outputs": [
    {
     "data": {
      "text/plain": [
       "Text(0, 0.5, 'Innings')"
      ]
     },
     "execution_count": 67,
     "metadata": {},
     "output_type": "execute_result"
    },
    {
     "data": {
      "image/png": "[encoded data removed]",
      "text/plain": [
       "<Figure size 432x288 with 1 Axes>"
      ]
     },
     "metadata": {
      "needs_background": "light"
     },
     "output_type": "display_data"
    }
   ],
   "source": [
    "plt.boxplot(players_analysis[\"Innings\"])\n",
    "plt.ylabel(\"Innings\")\n",
    "#Most of the players have played around 10 to 14 innings every year"
   ]
  },
  {
   "cell_type": "code",
   "execution_count": 113,
   "metadata": {},
   "outputs": [
    {
     "data": {
      "text/plain": [
       "<AxesSubplot:xlabel='Notout'>"
      ]
     },
     "execution_count": 113,
     "metadata": {},
     "output_type": "execute_result"
    },
    {
     "data": {
      "image/png": "[encoded data removed]",
      "text/plain": [
       "<Figure size 432x288 with 1 Axes>"
      ]
     },
     "metadata": {
      "needs_background": "light"
     },
     "output_type": "display_data"
    }
   ],
   "source": [
    "sns.barplot(players_analysis[\"Notout\"])\n",
    "#Most of the players have ended their innings without being out for 0 to 2 times every season.\n"
   ]
  },
  {
   "cell_type": "code",
   "execution_count": 16,
   "metadata": {},
   "outputs": [
    {
     "data": {
      "text/plain": [
       "<AxesSubplot:xlabel='Runs'>"
      ]
     },
     "execution_count": 16,
     "metadata": {},
     "output_type": "execute_result"
    },
    {
     "data": {
      "image/png": "[encoded data removed]",
      "text/plain": [
       "<Figure size 432x288 with 1 Axes>"
      ]
     },
     "metadata": {
      "needs_background": "light"
     },
     "output_type": "display_data"
    }
   ],
   "source": [
    "sns.boxplot(players_analysis[\"Runs\"])\n",
    "#On an average players have scored between 200 to 400 runs every season."
   ]
  },
  {
   "cell_type": "code",
   "execution_count": 80,
   "metadata": {},
   "outputs": [
    {
     "data": {
      "text/plain": [
       "<AxesSubplot:xlabel='Highestscore'>"
      ]
     },
     "execution_count": 80,
     "metadata": {},
     "output_type": "execute_result"
    },
    {
     "data": {
      "image/png": "[encoded data removed]",
      "text/plain": [
       "<Figure size 432x288 with 1 Axes>"
      ]
     },
     "metadata": {
      "needs_background": "light"
     },
     "output_type": "display_data"
    }
   ],
   "source": [
    "sns.barplot(players_analysis[\"Highestscore\"],x=['year'])\n",
    "#Highest score in an innings ranges from 50 to 80 every year.\n"
   ]
  },
  {
   "cell_type": "code",
   "execution_count": 85,
   "metadata": {},
   "outputs": [
    {
     "data": {
      "text/plain": [
       "{'whiskers': [<matplotlib.lines.Line2D at 0x2872de3a820>,\n",
       "  <matplotlib.lines.Line2D at 0x2872de3aaf0>],\n",
       " 'caps': [<matplotlib.lines.Line2D at 0x2872de3adc0>,\n",
       "  <matplotlib.lines.Line2D at 0x2872de3f0d0>],\n",
       " 'boxes': [<matplotlib.lines.Line2D at 0x2872de3a550>],\n",
       " 'medians': [<matplotlib.lines.Line2D at 0x2872de3f3a0>],\n",
       " 'fliers': [<matplotlib.lines.Line2D at 0x2872de3f670>],\n",
       " 'means': []}"
      ]
     },
     "execution_count": 85,
     "metadata": {},
     "output_type": "execute_result"
    },
    {
     "data": {
      "image/png": "[encoded data removed]",
      "text/plain": [
       "<Figure size 432x288 with 1 Axes>"
      ]
     },
     "metadata": {
      "needs_background": "light"
     },
     "output_type": "display_data"
    }
   ],
   "source": [
    " plt.boxplot(players_analysis[\"Average\"])\n",
    "#Average of top scorers is between 20 to 40 every year."
   ]
  },
  {
   "cell_type": "code",
   "execution_count": 100,
   "metadata": {},
   "outputs": [
    {
     "data": {
      "text/plain": [
       "<AxesSubplot:xlabel='Ducks', ylabel='Density'>"
      ]
     },
     "execution_count": 100,
     "metadata": {},
     "output_type": "execute_result"
    },
    {
     "data": {
      "image/png": "[encoded data removed]",
      "text/plain": [
       "<Figure size 432x288 with 1 Axes>"
      ]
     },
     "metadata": {
      "needs_background": "light"
     },
     "output_type": "display_data"
    }
   ],
   "source": [
    "sns.kdeplot(players_analysis[\"Ducks\"])\n",
    "#Every season on an average ducks scored by players is 0 to2 ."
   ]
  },
  {
   "cell_type": "code",
   "execution_count": 104,
   "metadata": {},
   "outputs": [
    {
     "data": {
      "text/plain": [
       "<AxesSubplot:xlabel='Hundreds'>"
      ]
     },
     "execution_count": 104,
     "metadata": {},
     "output_type": "execute_result"
    },
    {
     "data": {
      "image/png": "[encoded data removed]",
      "text/plain": [
       "<Figure size 432x288 with 1 Axes>"
      ]
     },
     "metadata": {
      "needs_background": "light"
     },
     "output_type": "display_data"
    }
   ],
   "source": [
    "sns.boxplot(players_analysis[\"Hundreds\"])\n",
    "# On an average in most of the matches in a season 100’s are 1 or 2 or 4"
   ]
  },
  {
   "cell_type": "code",
   "execution_count": 107,
   "metadata": {},
   "outputs": [
    {
     "data": {
      "text/plain": [
       "{'whiskers': [<matplotlib.lines.Line2D at 0x287302d7280>,\n",
       "  <matplotlib.lines.Line2D at 0x287302d7550>],\n",
       " 'caps': [<matplotlib.lines.Line2D at 0x287302d77f0>,\n",
       "  <matplotlib.lines.Line2D at 0x287302d7ac0>],\n",
       " 'boxes': [<matplotlib.lines.Line2D at 0x287302d7040>],\n",
       " 'medians': [<matplotlib.lines.Line2D at 0x287302d7d90>],\n",
       " 'fliers': [<matplotlib.lines.Line2D at 0x287302e30a0>],\n",
       " 'means': []}"
      ]
     },
     "execution_count": 107,
     "metadata": {},
     "output_type": "execute_result"
    },
    {
     "data": {
      "image/png": "[encoded data removed]",
      "text/plain": [
       "<Figure size 432x288 with 1 Axes>"
      ]
     },
     "metadata": {
      "needs_background": "light"
     },
     "output_type": "display_data"
    }
   ],
   "source": [
    "plt.boxplot(players_analysis[\"Fifties\"])\n",
    "#and around 1 to 3 fifties are scored in a season."
   ]
  },
  {
   "cell_type": "code",
   "execution_count": 108,
   "metadata": {},
   "outputs": [
    {
     "data": {
      "text/plain": [
       "{'whiskers': [<matplotlib.lines.Line2D at 0x2873032bc10>,\n",
       "  <matplotlib.lines.Line2D at 0x2873032bee0>],\n",
       " 'caps': [<matplotlib.lines.Line2D at 0x287303391f0>,\n",
       "  <matplotlib.lines.Line2D at 0x287303394c0>],\n",
       " 'boxes': [<matplotlib.lines.Line2D at 0x2873032b940>],\n",
       " 'medians': [<matplotlib.lines.Line2D at 0x28730339790>],\n",
       " 'fliers': [<matplotlib.lines.Line2D at 0x28730339a60>],\n",
       " 'means': []}"
      ]
     },
     "execution_count": 108,
     "metadata": {},
     "output_type": "execute_result"
    },
    {
     "data": {
      "image/png": "[encoded data removed]",
      "text/plain": [
       "<Figure size 432x288 with 1 Axes>"
      ]
     },
     "metadata": {
      "needs_background": "light"
     },
     "output_type": "display_data"
    }
   ],
   "source": [
    "plt.boxplot(players_analysis[\"Fours\"])\n",
    "#On an average 20 to 40 fours and "
   ]
  },
  {
   "cell_type": "code",
   "execution_count": 111,
   "metadata": {},
   "outputs": [
    {
     "data": {
      "text/plain": [
       "<AxesSubplot:xlabel='Sixes', ylabel='Density'>"
      ]
     },
     "execution_count": 111,
     "metadata": {},
     "output_type": "execute_result"
    },
    {
     "data": {
      "image/png": "[encoded data removed]",
      "text/plain": [
       "<Figure size 432x288 with 1 Axes>"
      ]
     },
     "metadata": {
      "needs_background": "light"
     },
     "output_type": "display_data"
    }
   ],
   "source": [
    "sns.distplot(players_analysis[\"Sixes\"])\n",
    "# 0 to 40 sixes are scored every year by a player"
   ]
  },
  {
   "cell_type": "code",
   "execution_count": 214,
   "metadata": {},
   "outputs": [
    {
     "name": "stdout",
     "output_type": "stream",
     "text": [
      "          Matches     Innings      Notout        Runs  Highestscore  \\\n",
      "count  498.000000  498.000000  498.000000  498.000000    498.000000   \n",
      "mean    13.082329   12.311245    2.148594  317.044177     68.660643   \n",
      "std      2.947435    2.947139    1.975200  140.927533     22.204720   \n",
      "min      4.000000    4.000000    0.000000  110.000000     24.000000   \n",
      "25%     11.000000   10.000000    1.000000  204.000000     52.000000   \n",
      "50%     14.000000   13.000000    2.000000  295.500000     67.000000   \n",
      "75%     15.000000   14.000000    3.000000  404.250000     83.750000   \n",
      "max     19.000000   19.000000   10.000000  973.000000    175.000000   \n",
      "\n",
      "          Average  Ballsfaced  StrikeRate    Hundreds     Fifties       Ducks  \\\n",
      "count  498.000000  498.000000  498.000000  498.000000  498.000000  498.000000   \n",
      "mean    31.878012  234.690763  135.455482    0.102410    1.899598    0.652610   \n",
      "std     11.879711  100.187112   18.052773    0.395592    1.624126    0.820881   \n",
      "min     10.280000   64.000000   86.690000    0.000000    0.000000    0.000000   \n",
      "25%     23.432500  156.000000  122.877500    0.000000    1.000000    0.000000   \n",
      "50%     29.655000  221.000000  133.815000    0.000000    2.000000    0.000000   \n",
      "75%     38.397500  301.000000  145.477500    0.000000    3.000000    1.000000   \n",
      "max     83.200000  640.000000  204.810000    4.000000    9.000000    4.000000   \n",
      "\n",
      "            Fours       Sixes         year  \n",
      "count  498.000000  498.000000   498.000000  \n",
      "mean    28.955823   12.777108  2017.504016  \n",
      "std     15.411265    8.060917     2.878664  \n",
      "min      4.000000    0.000000  2013.000000  \n",
      "25%     17.000000    7.000000  2015.000000  \n",
      "50%     27.000000   11.000000  2017.500000  \n",
      "75%     39.000000   17.000000  2020.000000  \n",
      "max     88.000000   52.000000  2022.000000  \n"
     ]
    }
   ],
   "source": [
    "print(players_analysis.describe())"
   ]
  },
  {
   "cell_type": "markdown",
   "metadata": {},
   "source": [
    "# Bivariate Analysis For Players(Categorical to numerical)"
   ]
  },
  {
   "cell_type": "code",
   "execution_count": 126,
   "metadata": {},
   "outputs": [
    {
     "data": {
      "text/plain": [
       "<AxesSubplot:xlabel='year', ylabel='Matches'>"
      ]
     },
     "execution_count": 126,
     "metadata": {},
     "output_type": "execute_result"
    },
    {
     "data": {
      "image/png": "[encoded data removed]",
      "text/plain": [
       "<Figure size 432x288 with 1 Axes>"
      ]
     },
     "metadata": {
      "needs_background": "light"
     },
     "output_type": "display_data"
    }
   ],
   "source": [
    "sns.boxplot(players_analysis[\"year\"],players_analysis[\"Matches\"] )\n",
    "#Only in the year 2013 players have played 16+ matches ."
   ]
  },
  {
   "cell_type": "code",
   "execution_count": 123,
   "metadata": {},
   "outputs": [
    {
     "data": {
      "text/plain": [
       "<AxesSubplot:xlabel='year', ylabel='Innings'>"
      ]
     },
     "execution_count": 123,
     "metadata": {},
     "output_type": "execute_result"
    },
    {
     "data": {
      "image/png": "[encoded data removed]",
      "text/plain": [
       "<Figure size 432x288 with 1 Axes>"
      ]
     },
     "metadata": {
      "needs_background": "light"
     },
     "output_type": "display_data"
    }
   ],
   "source": [
    "sns.boxplot(players_analysis[\"year\"],players_analysis[\"Innings\"] )\n",
    "#Only in the year 2013 players have played 16+  innings."
   ]
  },
  {
   "cell_type": "code",
   "execution_count": 128,
   "metadata": {},
   "outputs": [
    {
     "data": {
      "text/plain": [
       "<AxesSubplot:xlabel='year', ylabel='Notout'>"
      ]
     },
     "execution_count": 128,
     "metadata": {},
     "output_type": "execute_result"
    },
    {
     "data": {
      "image/png": "[encoded data removed]",
      "text/plain": [
       "<Figure size 432x288 with 1 Axes>"
      ]
     },
     "metadata": {
      "needs_background": "light"
     },
     "output_type": "display_data"
    }
   ],
   "source": [
    "sns.violinplot(players_analysis[\"year\"],players_analysis[\"Notout\"] )\n",
    "#2014 and 2022 years saw the highest number of not outs "
   ]
  },
  {
   "cell_type": "code",
   "execution_count": 131,
   "metadata": {},
   "outputs": [
    {
     "data": {
      "text/plain": [
       "<AxesSubplot:xlabel='year', ylabel='Runs'>"
      ]
     },
     "execution_count": 131,
     "metadata": {},
     "output_type": "execute_result"
    },
    {
     "data": {
      "image/png": "[encoded data removed]",
      "text/plain": [
       "<Figure size 432x288 with 1 Axes>"
      ]
     },
     "metadata": {
      "needs_background": "light"
     },
     "output_type": "display_data"
    }
   ],
   "source": [
    "sns.boxplot(players_analysis[\"year\"],players_analysis[\"Runs\"] )\n",
    "# Only in 2016 900+ runs were scored. "
   ]
  },
  {
   "cell_type": "code",
   "execution_count": 135,
   "metadata": {},
   "outputs": [
    {
     "data": {
      "text/plain": [
       "<AxesSubplot:xlabel='year', ylabel='Highestscore'>"
      ]
     },
     "execution_count": 135,
     "metadata": {},
     "output_type": "execute_result"
    },
    {
     "data": {
      "image/png": "[encoded data removed]",
      "text/plain": [
       "<Figure size 432x288 with 1 Axes>"
      ]
     },
     "metadata": {
      "needs_background": "light"
     },
     "output_type": "display_data"
    }
   ],
   "source": [
    "sns.violinplot(players_analysis[\"year\"],players_analysis[\"Highestscore\"] )\n",
    "# 2013 is the year which saw the highest score by a player."
   ]
  },
  {
   "cell_type": "code",
   "execution_count": 148,
   "metadata": {},
   "outputs": [
    {
     "data": {
      "text/plain": [
       "<AxesSubplot:xlabel='year', ylabel='Average'>"
      ]
     },
     "execution_count": 148,
     "metadata": {},
     "output_type": "execute_result"
    },
    {
     "data": {
      "image/png": "[encoded data removed]",
      "text/plain": [
       "<Figure size 432x288 with 1 Axes>"
      ]
     },
     "metadata": {
      "needs_background": "light"
     },
     "output_type": "display_data"
    }
   ],
   "source": [
    "sns.boxplot(players_analysis[\"year\"],players_analysis[\"Average\"] )\n",
    "# On an average player’s average lies between 10 to 60 each year. "
   ]
  },
  {
   "cell_type": "code",
   "execution_count": 149,
   "metadata": {},
   "outputs": [
    {
     "data": {
      "text/plain": [
       "<AxesSubplot:xlabel='year', ylabel='StrikeRate'>"
      ]
     },
     "execution_count": 149,
     "metadata": {},
     "output_type": "execute_result"
    },
    {
     "data": {
      "image/png": "[encoded data removed]",
      "text/plain": [
       "<Figure size 432x288 with 1 Axes>"
      ]
     },
     "metadata": {
      "needs_background": "light"
     },
     "output_type": "display_data"
    }
   ],
   "source": [
    "sns.violinplot(players_analysis[\"year\"],players_analysis[\"StrikeRate\"] )\n",
    "# 2019 year saw highest strike rate"
   ]
  },
  {
   "cell_type": "code",
   "execution_count": 150,
   "metadata": {},
   "outputs": [
    {
     "data": {
      "text/plain": [
       "<AxesSubplot:xlabel='year', ylabel='Hundreds'>"
      ]
     },
     "execution_count": 150,
     "metadata": {},
     "output_type": "execute_result"
    },
    {
     "data": {
      "image/png": "[encoded data removed]",
      "text/plain": [
       "<Figure size 432x288 with 1 Axes>"
      ]
     },
     "metadata": {
      "needs_background": "light"
     },
     "output_type": "display_data"
    }
   ],
   "source": [
    "sns.boxplot(players_analysis[],players_analysis[\"Hundreds\"] )\n",
    "# 2016 and 2022 saw highest number of hundreds\n"
   ]
  },
  {
   "cell_type": "code",
   "execution_count": 179,
   "metadata": {},
   "outputs": [
    {
     "data": {
      "text/plain": [
       "<AxesSubplot:xlabel='Runs', ylabel='year'>"
      ]
     },
     "execution_count": 179,
     "metadata": {},
     "output_type": "execute_result"
    },
    {
     "data": {
      "image/png": "[encoded data removed]",
      "text/plain": [
       "<Figure size 432x288 with 1 Axes>"
      ]
     },
     "metadata": {
      "needs_background": "light"
     },
     "output_type": "display_data"
    }
   ],
   "source": [
    "sns.boxplot(players_analysis[\"Runs\"],players_analysis[\"year\"] )"
   ]
  },
  {
   "cell_type": "code",
   "execution_count": null,
   "metadata": {},
   "outputs": [],
   "source": []
  },
  {
   "cell_type": "code",
   "execution_count": null,
   "metadata": {},
   "outputs": [],
   "source": []
  },
  {
   "cell_type": "code",
   "execution_count": null,
   "metadata": {},
   "outputs": [],
   "source": []
  },
  {
   "cell_type": "markdown",
   "metadata": {},
   "source": [
    "# Univariate Analysis for Team\n"
   ]
  },
  {
   "cell_type": "code",
   "execution_count": 38,
   "metadata": {},
   "outputs": [],
   "source": [
    "team_analysis =pd.read_csv('webscraping_teams.csv' )\n",
    "# Matches\tWins\tLosses\tNoResult\tPoints\tNetRunRate\tFor\tAgainst\tLast5Matches\tYear"
   ]
  },
  {
   "cell_type": "code",
   "execution_count": 39,
   "metadata": {},
   "outputs": [
    {
     "data": {
      "text/plain": [
       "(array([74.,  0.,  0.,  0.,  0.,  0.,  0.,  0.,  0.,  9.]),\n",
       " array([14. , 14.2, 14.4, 14.6, 14.8, 15. , 15.2, 15.4, 15.6, 15.8, 16. ]),\n",
       " <BarContainer object of 10 artists>)"
      ]
     },
     "execution_count": 39,
     "metadata": {},
     "output_type": "execute_result"
    },
    {
     "data": {
      "image/png": "[encoded data removed]",
      "text/plain": [
       "<Figure size 432x288 with 1 Axes>"
      ]
     },
     "metadata": {
      "needs_background": "light"
     },
     "output_type": "display_data"
    }
   ],
   "source": [
    "plt.hist(team_analysis[\"Matches\"])"
   ]
  },
  {
   "cell_type": "code",
   "execution_count": 40,
   "metadata": {},
   "outputs": [
    {
     "data": {
      "text/plain": [
       "(array([ 1.,  4.,  5.,  7., 15., 17., 10., 16.,  5.,  3.]),\n",
       " array([ 2. ,  2.9,  3.8,  4.7,  5.6,  6.5,  7.4,  8.3,  9.2, 10.1, 11. ]),\n",
       " <BarContainer object of 10 artists>)"
      ]
     },
     "execution_count": 40,
     "metadata": {},
     "output_type": "execute_result"
    },
    {
     "data": {
      "image/png": "[encoded data removed]",
      "text/plain": [
       "<Figure size 432x288 with 1 Axes>"
      ]
     },
     "metadata": {
      "needs_background": "light"
     },
     "output_type": "display_data"
    }
   ],
   "source": [
    "plt.hist(team_analysis[\"Wins\"])"
   ]
  },
  {
   "cell_type": "code",
   "execution_count": 41,
   "metadata": {},
   "outputs": [
    {
     "data": {
      "text/plain": [
       "(array([ 1.,  3., 20., 11., 15., 18.,  4.,  6.,  2.,  3.]),\n",
       " array([ 3.,  4.,  5.,  6.,  7.,  8.,  9., 10., 11., 12., 13.]),\n",
       " <BarContainer object of 10 artists>)"
      ]
     },
     "execution_count": 41,
     "metadata": {},
     "output_type": "execute_result"
    },
    {
     "data": {
      "image/png": "[encoded data removed]",
      "text/plain": [
       "<Figure size 432x288 with 1 Axes>"
      ]
     },
     "metadata": {
      "needs_background": "light"
     },
     "output_type": "display_data"
    }
   ],
   "source": [
    "plt.hist(team_analysis[\"Losses\"])"
   ]
  },
  {
   "cell_type": "code",
   "execution_count": 42,
   "metadata": {},
   "outputs": [
    {
     "data": {
      "text/plain": [
       "(array([75.,  0.,  0.,  0.,  0.,  6.,  0.,  0.,  0.,  2.]),\n",
       " array([0. , 0.2, 0.4, 0.6, 0.8, 1. , 1.2, 1.4, 1.6, 1.8, 2. ]),\n",
       " <BarContainer object of 10 artists>)"
      ]
     },
     "execution_count": 42,
     "metadata": {},
     "output_type": "execute_result"
    },
    {
     "data": {
      "image/png": "[encoded data removed]",
      "text/plain": [
       "<Figure size 432x288 with 1 Axes>"
      ]
     },
     "metadata": {
      "needs_background": "light"
     },
     "output_type": "display_data"
    }
   ],
   "source": [
    "plt.hist(team_analysis[\"NoResult\"])"
   ]
  },
  {
   "cell_type": "code",
   "execution_count": 43,
   "metadata": {},
   "outputs": [
    {
     "data": {
      "text/plain": [
       "(array([ 1.,  4.,  5.,  7., 15., 14., 12., 17.,  5.,  3.]),\n",
       " array([ 4. ,  5.8,  7.6,  9.4, 11.2, 13. , 14.8, 16.6, 18.4, 20.2, 22. ]),\n",
       " <BarContainer object of 10 artists>)"
      ]
     },
     "execution_count": 43,
     "metadata": {},
     "output_type": "execute_result"
    },
    {
     "data": {
      "image/png": "[encoded data removed]",
      "text/plain": [
       "<Figure size 432x288 with 1 Axes>"
      ]
     },
     "metadata": {
      "needs_background": "light"
     },
     "output_type": "display_data"
    }
   ],
   "source": [
    "plt.hist(team_analysis[\"Points\"])"
   ]
  },
  {
   "cell_type": "code",
   "execution_count": 44,
   "metadata": {},
   "outputs": [
    {
     "data": {
      "text/plain": [
       "(array([ 3.,  2.,  1., 10., 12., 17., 19., 10.,  5.,  4.]),\n",
       " array([-1.436 , -1.1817, -0.9274, -0.6731, -0.4188, -0.1645,  0.0898,\n",
       "         0.3441,  0.5984,  0.8527,  1.107 ]),\n",
       " <BarContainer object of 10 artists>)"
      ]
     },
     "execution_count": 44,
     "metadata": {},
     "output_type": "execute_result"
    },
    {
     "data": {
      "image/png": "[encoded data removed]",
      "text/plain": [
       "<Figure size 432x288 with 1 Axes>"
      ]
     },
     "metadata": {
      "needs_background": "light"
     },
     "output_type": "display_data"
    }
   ],
   "source": [
    "plt.hist(team_analysis[\"NetRunRate\"])"
   ]
  },
  {
   "cell_type": "markdown",
   "metadata": {},
   "source": [
    "# Bivariate Analysis For Team "
   ]
  },
  {
   "cell_type": "code",
   "execution_count": 51,
   "metadata": {},
   "outputs": [
    {
     "data": {
      "text/plain": [
       "<AxesSubplot:xlabel='Year', ylabel='Wins'>"
      ]
     },
     "execution_count": 51,
     "metadata": {},
     "output_type": "execute_result"
    },
    {
     "data": {
      "image/png": "[encoded data removed]",
      "text/plain": [
       "<Figure size 432x288 with 1 Axes>"
      ]
     },
     "metadata": {
      "needs_background": "light"
     },
     "output_type": "display_data"
    }
   ],
   "source": [
    "sns.scatterplot(team_analysis[\"Year\"],team_analysis[\"Wins\"] )"
   ]
  },
  {
   "cell_type": "code",
   "execution_count": 52,
   "metadata": {},
   "outputs": [
    {
     "data": {
      "text/plain": [
       "<AxesSubplot:xlabel='Year', ylabel='Losses'>"
      ]
     },
     "execution_count": 52,
     "metadata": {},
     "output_type": "execute_result"
    },
    {
     "data": {
      "image/png": "[encoded data removed]",
      "text/plain": [
       "<Figure size 432x288 with 1 Axes>"
      ]
     },
     "metadata": {
      "needs_background": "light"
     },
     "output_type": "display_data"
    }
   ],
   "source": [
    "sns.scatterplot(team_analysis[\"Year\"],team_analysis[\"Losses\"] )"
   ]
  },
  {
   "cell_type": "code",
   "execution_count": 53,
   "metadata": {},
   "outputs": [
    {
     "data": {
      "text/plain": [
       "<AxesSubplot:xlabel='Year', ylabel='Points'>"
      ]
     },
     "execution_count": 53,
     "metadata": {},
     "output_type": "execute_result"
    },
    {
     "data": {
      "image/png": "[encoded data removed]",
      "text/plain": [
       "<Figure size 432x288 with 1 Axes>"
      ]
     },
     "metadata": {
      "needs_background": "light"
     },
     "output_type": "display_data"
    }
   ],
   "source": [
    "sns.scatterplot(team_analysis[\"Year\"],team_analysis[\"Points\"] )"
   ]
  },
  {
   "cell_type": "code",
   "execution_count": 55,
   "metadata": {},
   "outputs": [
    {
     "data": {
      "text/plain": [
       "<AxesSubplot:xlabel='Year', ylabel='NetRunRate'>"
      ]
     },
     "execution_count": 55,
     "metadata": {},
     "output_type": "execute_result"
    },
    {
     "data": {
      "image/png": "[encoded data removed]",
      "text/plain": [
       "<Figure size 432x288 with 1 Axes>"
      ]
     },
     "metadata": {
      "needs_background": "light"
     },
     "output_type": "display_data"
    }
   ],
   "source": [
    "sns.scatterplot(team_analysis[\"Year\"],team_analysis[\"NetRunRate\"] )"
   ]
  },
  {
   "cell_type": "code",
   "execution_count": null,
   "metadata": {},
   "outputs": [],
   "source": []
  },
  {
   "cell_type": "code",
   "execution_count": null,
   "metadata": {},
   "outputs": [],
   "source": []
  }
 ],
 "metadata": {
  "kernelspec": {
   "display_name": "Python 3",
   "language": "python",
   "name": "python3"
  },
  "language_info": {
   "codemirror_mode": {
    "name": "ipython",
    "version": 3
   },
   "file_extension": ".py",
   "mimetype": "text/x-python",
   "name": "python",
   "nbconvert_exporter": "python",
   "pygments_lexer": "ipython3",
   "version": "3.8.5"
  }
 },
 "nbformat": 4,
 "nbformat_minor": 4
}
